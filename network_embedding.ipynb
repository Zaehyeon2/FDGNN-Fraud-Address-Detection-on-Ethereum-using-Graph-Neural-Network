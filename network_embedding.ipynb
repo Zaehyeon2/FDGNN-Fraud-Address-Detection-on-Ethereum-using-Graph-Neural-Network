{
 "cells": [
  {
   "cell_type": "code",
   "execution_count": 3,
   "metadata": {},
   "outputs": [
    {
     "name": "stderr",
     "output_type": "stream",
     "text": [
      "Using backend: pytorch\n"
     ]
    }
   ],
   "source": [
    "import dgl\n",
    "import random\n",
    "import torch\n",
    "import torch.nn as nn\n",
    "import torch.nn.functional as F\n",
    "from dgl.dataloading import GraphDataLoader\n",
    "from torch.utils.data.sampler import SubsetRandomSampler, WeightedRandomSampler\n",
    "import dgl.data\n",
    "from tqdm import tqdm\n",
    "from sklearn.model_selection import StratifiedKFold\n",
    "import numpy as np\n",
    "import dgl.data\n",
    "from karateclub import Graph2Vec, FeatherGraph, GL2Vec\n",
    "from sklearn.metrics import f1_score, recall_score, precision_score\n",
    "from sklearn.ensemble import RandomForestClassifier\n",
    "from sklearn.linear_model import SGDClassifier\n",
    "from sklearn.preprocessing import StandardScaler\n",
    "from sklearn.pipeline import make_pipeline\n",
    "from sklearn.neural_network import MLPClassifier\n",
    "from sklearn.model_selection import train_test_split\n",
    "import networkx as nx\n",
    "\n",
    "graphs = dgl.load_graphs('./fraud_homographs.dgl')\n",
    "\n",
    "dataset = tuple(zip(graphs[0], graphs[1]['glabels'].argmax(1)))\n",
    "\n",
    "\n",
    "labels = [l for _, l in dataset]\n",
    "\n",
    "graphss = [nx.Graph(dgl.to_networkx(g)) for g, _ in dataset]\n",
    "\n"
   ]
  },
  {
   "cell_type": "code",
   "execution_count": 40,
   "metadata": {},
   "outputs": [
    {
     "name": "stdout",
     "output_type": "stream",
     "text": [
      "Graph with 426 nodes and 930 edges\n"
     ]
    }
   ],
   "source": [
    "print(graphss[0])"
   ]
  },
  {
   "cell_type": "code",
   "execution_count": 45,
   "metadata": {},
   "outputs": [],
   "source": [
    "# Model selection (Feather-G, GL2Vec, Graph2Vec)\n",
    "\n",
    "model = FeatherGraph() #Feather-G for Graph Embedding\n",
    "# model = GL2Vec() #GL2Vec for Graph Embedding\n",
    "# model = Graph2Vec() #Graph2Vec for Graph Embedding\n",
    "\n",
    "model.fit(graphss)"
   ]
  },
  {
   "cell_type": "code",
   "execution_count": 46,
   "metadata": {},
   "outputs": [],
   "source": [
    "\n",
    "X = model.get_embedding()"
   ]
  },
  {
   "cell_type": "code",
   "execution_count": 47,
   "metadata": {},
   "outputs": [],
   "source": [
    "X_train, X_test, y_train, y_test = train_test_split(X, labels, test_size=0.2, random_state=42)"
   ]
  },
  {
   "cell_type": "code",
   "execution_count": 48,
   "metadata": {},
   "outputs": [
    {
     "name": "stdout",
     "output_type": "stream",
     "text": [
      "AUC: 0.7238\n",
      "F1: 0.7239, Pre: 0.7272, Re: 0.7238\n"
     ]
    }
   ],
   "source": [
    "from sklearn.metrics import f1_score, recall_score, precision_score, accuracy_score\n",
    "\n",
    "clf = make_pipeline(StandardScaler(), RandomForestClassifier())\n",
    "clf.fit(X_train, y_train)\n",
    "y_hat = clf.predict(X_test)\n",
    "\n",
    "# print(y_hat)\n",
    "# print(y_test)\n",
    "\n",
    "# from sklearn.metrics import roc_auc_score\n",
    "auc = accuracy_score(y_test, y_hat)\n",
    "print('AUC: {:.4f}'.format(auc))\n",
    "\n",
    "f1 = f1_score(y_test, y_hat, average='weighted')\n",
    "precision = precision_score(y_test, y_hat, average='weighted')\n",
    "recall = recall_score(y_test, y_hat, average='weighted')\n",
    "print('F1: {:.4f}, Pre: {:.4f}, Re: {:.4f}'.format(f1, precision, recall))"
   ]
  },
  {
   "cell_type": "code",
   "execution_count": 52,
   "metadata": {},
   "outputs": [
    {
     "name": "stderr",
     "output_type": "stream",
     "text": [
      "C:\\ProgramData\\Anaconda3\\envs\\ICC2022\\lib\\site-packages\\sklearn\\manifold\\_t_sne.py:780: FutureWarning: The default initialization in TSNE will change from 'random' to 'pca' in 1.2.\n",
      "  warnings.warn(\n",
      "C:\\ProgramData\\Anaconda3\\envs\\ICC2022\\lib\\site-packages\\sklearn\\manifold\\_t_sne.py:790: FutureWarning: The default learning rate in TSNE will change from 200.0 to 'auto' in 1.2.\n",
      "  warnings.warn(\n"
     ]
    }
   ],
   "source": [
    "from sklearn.manifold import TSNE\n",
    "from sklearn.datasets import load_digits\n",
    "\n",
    "data = X_test\n",
    "\n",
    "n_components = 2\n",
    "\n",
    "model = TSNE(n_components=n_components)\n",
    "\n",
    "dot = model.fit_transform(data.data)"
   ]
  },
  {
   "cell_type": "code",
   "execution_count": 50,
   "metadata": {},
   "outputs": [],
   "source": [
    "import matplotlib.pyplot as plt\n",
    "import numpy as np\n",
    "import pandas as pd"
   ]
  },
  {
   "cell_type": "code",
   "execution_count": 20,
   "metadata": {},
   "outputs": [
    {
     "data": {
      "text/plain": [
       "array([ 39.507217 , -14.2413845, -21.746464 , ...,   7.23012  ,\n",
       "        21.196566 ,   2.2612996], dtype=float32)"
      ]
     },
     "execution_count": 20,
     "metadata": {},
     "output_type": "execute_result"
    }
   ],
   "source": [
    "dot[:,0]"
   ]
  },
  {
   "cell_type": "code",
   "execution_count": 53,
   "metadata": {},
   "outputs": [
    {
     "name": "stderr",
     "output_type": "stream",
     "text": [
      "No artists with labels found to put in legend.  Note that artists whose label start with an underscore are ignored when legend() is called with no argument.\n"
     ]
    },
    {
     "data": {
      "image/png": "[encoded data removed]",
      "text/plain": [
       "<Figure size 432x288 with 1 Axes>"
      ]
     },
     "metadata": {
      "needs_background": "light"
     },
     "output_type": "display_data"
    }
   ],
   "source": [
    "df = pd.DataFrame(dict(X=dot[:,0], Y=dot[:,1], y_hat=y_hat))\n",
    "\n",
    "fig, ax = plt.subplots()\n",
    "\n",
    "colors = {0:'red', 1:'green', 2:'blue', 3:'skyblue', 4:'gray'}\n",
    "\n",
    "# ax.scatter(df['X'], df['Y'])\n",
    "\n",
    "ax.scatter(df['X'], df['Y'], c=df['y_hat'].map(colors))\n",
    "\n",
    "plt.legend()\n",
    "\n",
    "plt.show()"
   ]
  }
 ],
 "metadata": {
  "interpreter": {
   "hash": "ac840a94d6b6cfcab4979c4cbba837288ba41492109ceae8f331da715ad31117"
  },
  "kernelspec": {
   "display_name": "Python 3.9.7 64-bit ('ICC2022': conda)",
   "language": "python",
   "name": "python3"
  },
  "language_info": {
   "codemirror_mode": {
    "name": "ipython",
    "version": 3
   },
   "file_extension": ".py",
   "mimetype": "text/x-python",
   "name": "python",
   "nbconvert_exporter": "python",
   "pygments_lexer": "ipython3",
   "version": "3.9.7"
  },
  "orig_nbformat": 4
 },
 "nbformat": 4,
 "nbformat_minor": 2
}
